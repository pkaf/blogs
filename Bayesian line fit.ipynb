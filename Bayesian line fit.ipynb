{
 "cells": [
  {
   "cell_type": "code",
   "execution_count": 34,
   "metadata": {},
   "outputs": [
    {
     "name": "stdout",
     "output_type": "stream",
     "text": [
      "Sun 27 May 2018 12:54:32 AWST\r\n"
     ]
    }
   ],
   "source": [
    "!date"
   ]
  },
  {
   "cell_type": "markdown",
   "metadata": {},
   "source": [
    "## Robuslty fitting a model to the data with outliers.\n",
    "\n",
    "\n",
    "Data includes, \n",
    "* x: independent variable\n",
    "* y: dependent variable\n",
    "* sx, sy: associated uncertainties in x and y\n",
    "* sxy: correlation between sx and sy.\n",
    "\n",
    "The complexity of problem gradually increases as you progress through the code. Following are the major implementations so far, in order of increasing modelling complexity:\n",
    "\n",
    "1. Exact linear fit: Linear Algebraic approach. Data used: (x,y,sy) with/out outliers\n",
    "2. Exact quadratic fit: Linear Algebraic approach. (x,y,sy) with/out outliers\n",
    "3. Bayesian fitting. (x, y, sy) without outliers\n",
    "4. Bayesian fitting. (x, y, sy) with outliers and background modeling\n",
    "        1. In case sy is known\n",
    "        2. sy is known unknown, hence considering it a free parameter \n",
    "        3. sy is non-existence (case of perfect measurement), hence assuming sy=1 (correctness of this approach?)\n",
    "5. To implement: \n",
    "        1. Bayesian fitting. (x, y, sy, sx) with outliers and errors in both x and y variables.\n",
    "        2. Bayesian fitting. (x, y, sy, sx, sxy) with outliers, and correlated errors in x and y.\n",
    "        \n",
    "6. Most importantly, \n",
    "      minimally informative prior on slope, intercept and uncertainties \n",
    "      https://jakevdp.github.io/blog/2014/06/14/frequentism-and-bayesianism-4-bayesian-in-python/"
   ]
  },
  {
   "cell_type": "code",
   "execution_count": 1,
   "metadata": {},
   "outputs": [
    {
     "name": "stderr",
     "output_type": "stream",
     "text": [
      "/Users/pluto/anaconda2/lib/python2.7/site-packages/h5py/__init__.py:36: FutureWarning: Conversion of the second argument of issubdtype from `float` to `np.floating` is deprecated. In future, it will be treated as `np.float64 == np.dtype(float).type`.\n",
      "  from ._conv import register_converters as _register_converters\n"
     ]
    }
   ],
   "source": [
    "import numpy as np\n",
    "import pymc3 as pm\n",
    "import pandas as pd\n",
    "import scipy.stats as st\n",
    "#from scipy.optimize import curve_fit\n",
    "import matplotlib.pyplot as plt\n",
    "from astroML.plotting import setup_text_plots\n",
    "setup_text_plots(fontsize=8, usetex=False)\n",
    "\n",
    "%matplotlib inline\n",
    "\n",
    "def plotting_keys():\n",
    "    plt.xlabel('x'); plt.ylabel('y')\n",
    "    plt.xlim(0,300);plt.ylim(0,700)\n",
    "    plt.minorticks_on()\n",
    "    plt.legend()\n",
    "    \n",
    "def xest(x):\n",
    "    m, est, p = np.percentile(x, [16, 50, 84])\n",
    "    return est, est-m, p-est\n"
   ]
  },
  {
   "cell_type": "markdown",
   "metadata": {},
   "source": [
    "### Data in hand"
   ]
  },
  {
   "cell_type": "markdown",
   "metadata": {},
   "source": [
    "Reference and data source: Hogg et al. 2010 paper.\n",
    "https://arxiv.org/pdf/1008.4686.pdf"
   ]
  },
  {
   "cell_type": "code",
   "execution_count": 2,
   "metadata": {},
   "outputs": [],
   "source": [
    "    \n",
    "table1 = np.array([[1, 201, 592, 61, 9, -0.84,],\n",
    "                    [2, 244, 401, 25, 4, 0.31,],\n",
    "                    [3, 47, 583, 38, 11, 0.64,],\n",
    "                    [4, 287, 402, 15, 7, -0.27,],\n",
    "                    [5, 203, 495, 21, 5, -0.33,],\n",
    "                    [6, 58, 173, 15, 9, 0.67,],\n",
    "                    [7, 210, 479, 27, 4, -0.02,],\n",
    "                    [8, 202, 504, 14, 4, -0.05,],\n",
    "                    [9, 198, 510, 30, 11, -0.84,],\n",
    "                    [10, 158, 416, 16, 7, -0.69,],\n",
    "                    [11, 165, 393, 14, 5, 0.30,],\n",
    "                    [12, 201, 442, 25, 5, -0.46,],\n",
    "                    [13, 157, 317, 52, 5, -0.03,],\n",
    "                    [14, 131, 311, 16, 6, 0.50,],\n",
    "                    [15, 166, 400, 34, 6, 0.73,],\n",
    "                    [16, 160, 337, 31, 5, -0.52,],\n",
    "                    [17, 186, 423, 42, 9, 0.90,],\n",
    "                    [18, 125, 334, 26, 8, 0.40,],\n",
    "                    [19, 218, 533, 16, 6, -0.78,],\n",
    "                    [20, 146, 344, 22, 5, -0.56,]])\n",
    "\n",
    "table1 = pd.DataFrame(table1, columns=['id', 'x', 'y', 'sy', 'sx', 'sxy'])\n",
    "table1['id'] = table1['id'].astype(int)\n",
    "table1.set_index('id', inplace=True)"
   ]
  },
  {
   "cell_type": "code",
   "execution_count": 3,
   "metadata": {},
   "outputs": [
    {
     "data": {
      "text/plain": [
       "Text(0,0.5,u'Y')"
      ]
     },
     "execution_count": 3,
     "metadata": {},
     "output_type": "execute_result"
    },
    {
     "data": {
      "image/png": "[encoded data removed]",
      "text/plain": [
       "<matplotlib.figure.Figure at 0x1c12efedd0>"
      ]
     },
     "metadata": {},
     "output_type": "display_data"
    }
   ],
   "source": [
    "plt.errorbar(table1.x, table1.y, yerr=table1.sy, xerr=table1.sx, fmt='o')\n",
    "plt.xlabel('X'); plt.ylabel('Y')"
   ]
  },
  {
   "cell_type": "markdown",
   "metadata": {},
   "source": [
    "### Excercise 1: exact solution using Linear Algebra"
   ]
  },
  {
   "cell_type": "markdown",
   "metadata": {},
   "source": [
    "#### Case I: Linear fit"
   ]
  },
  {
   "cell_type": "code",
   "execution_count": 4,
   "metadata": {},
   "outputs": [],
   "source": [
    "def linear_algebraic_solution(df):\n",
    "    Y = df.y.values\n",
    "    X = df.x.values\n",
    "    sY = df.sy.values\n",
    "    A = np.vstack((np.ones(len(X)), X)).T\n",
    "    C = np.diag(sY**2)\n",
    "    invC = np.linalg.inv(C)\n",
    "\n",
    "    # equation 5 bracket terms\n",
    "    term_left = np.linalg.inv(np.dot(A.T, np.dot(invC, A)))\n",
    "    term_right = np.dot(A.T,np.dot(invC, Y))\n",
    "\n",
    "    b, m = np.dot(term_left, term_right)\n",
    "    berr, merr = np.sqrt(np.diag(term_left))\n",
    "\n",
    "    print \"m=%1.2f \\pm{%1.2f}, b=%2d \\pm{%2d}\"%(m, merr, b, berr)\n",
    "    \n",
    "    return [m, merr, b, berr], [X, Y, sY]"
   ]
  },
  {
   "cell_type": "code",
   "execution_count": 5,
   "metadata": {},
   "outputs": [
    {
     "name": "stdout",
     "output_type": "stream",
     "text": [
      "m=2.24 \\pm{0.11}, b=34 \\pm{18}\n"
     ]
    },
    {
     "data": {
      "image/png": "[encoded data removed]",
      "text/plain": [
       "<matplotlib.figure.Figure at 0x1c12efea50>"
      ]
     },
     "metadata": {},
     "output_type": "display_data"
    }
   ],
   "source": [
    "trimmed_table1 = table1.loc[5:20]\n",
    "\n",
    "est, dat = linear_algebraic_solution(trimmed_table1)\n",
    "m, merr, b, berr = est\n",
    "X, Y, sY = dat\n",
    "\n",
    "Xp = np.linspace(0, 300, 100)\n",
    "fig1 = plt.figure(figsize=(6,7))\n",
    "plt.plot(Xp, m*Xp+b, 'k', \n",
    "         label='fit: a=$%5.2f\\pm{%5.2f}$, b=$%5d\\pm{%5d}$'%(m, merr, \n",
    "                                                            b, berr) )\n",
    "plt.errorbar(X, Y, yerr=sY, fmt='ko', label='observed point')\n",
    "plotting_keys()\n",
    "\n",
    "# Storing result in a dataframe\n",
    "caseI_result = {'m':[m], 'merr':[merr], 'b': [b], 'berr':[berr], 'case':['Exact solution'], \n",
    "                'data':['(x,y,sy) w/o outliers']}\n",
    "\n",
    "result_df = pd.DataFrame.from_dict(caseI_result)"
   ]
  },
  {
   "cell_type": "markdown",
   "metadata": {},
   "source": [
    "#### Linear Fit:  Repeating case I with full data (outliers inclusive)"
   ]
  },
  {
   "cell_type": "code",
   "execution_count": 6,
   "metadata": {},
   "outputs": [
    {
     "name": "stdout",
     "output_type": "stream",
     "text": [
      "m=1.08 \\pm{0.08}, b=213 \\pm{14}\n"
     ]
    },
    {
     "data": {
      "image/png": "[encoded data removed]",
      "text/plain": [
       "<matplotlib.figure.Figure at 0x1c12feec50>"
      ]
     },
     "metadata": {},
     "output_type": "display_data"
    }
   ],
   "source": [
    "est, dat = linear_algebraic_solution(table1)\n",
    "m, merr, b, berr = est\n",
    "X, Y, sY = dat\n",
    "\n",
    "Xp = np.linspace(0, 300, 100)\n",
    "plt.figure(figsize=(6,7))\n",
    "plt.plot(Xp, m*Xp+b, 'k', \n",
    "         label='fit: m=$%5.2f\\pm{%5.2f}$, b=$%5d\\pm{%5d}$'%(m, merr, \n",
    "                                                            b, berr) )\n",
    "plt.errorbar(X, Y, yerr=sY, fmt='ko', label='observed point')\n",
    "plotting_keys()\n",
    "\n",
    "# Storing result in a dataframe\n",
    "caseII_result = {'m':m, 'merr':merr, 'b': b, 'berr':berr, 'case':'Exact solution', 'data': '(x,y,sy) with outliers'}\n",
    "\n",
    "result_df = result_df.append(pd.Series(caseII_result), ignore_index=True)"
   ]
  },
  {
   "cell_type": "markdown",
   "metadata": {},
   "source": [
    "Clearly, including outliers ruins the fit. "
   ]
  },
  {
   "cell_type": "markdown",
   "metadata": {},
   "source": [
    "#### Case II: Quadratic fit to data with/out outliers\n",
    "\n",
    "(sub-case without outliers)"
   ]
  },
  {
   "cell_type": "code",
   "execution_count": 7,
   "metadata": {},
   "outputs": [],
   "source": [
    "def quadratic_algebraic_solution(df):\n",
    "    Y = df.y.values\n",
    "    X = df.x.values\n",
    "    sY = df.sy.values\n",
    "    A = np.vstack((np.ones(len(X)), X, X*X)).T\n",
    "    C = np.diag(sY**2)\n",
    "    invC = np.linalg.inv(C)\n",
    "\n",
    "    # equation 5 bracket terms\n",
    "    term_left = np.linalg.inv(np.dot(A.T, np.dot(invC, A)))\n",
    "    term_right = np.dot(A.T,np.dot(invC, Y))\n",
    "\n",
    "    b, m, q = np.dot(term_left, term_right)\n",
    "    berr, merr, qerr = np.sqrt(np.diag(term_left))\n",
    "\n",
    "    print \"m=%1.2f \\pm{%1.2f}, b=%2d \\pm{%2d}\"%(m, merr, b, berr)\n",
    "    \n",
    "    return [m, merr, b, berr, q, qerr], [X, Y, sY]"
   ]
  },
  {
   "cell_type": "code",
   "execution_count": 8,
   "metadata": {},
   "outputs": [
    {
     "name": "stdout",
     "output_type": "stream",
     "text": [
      "m=1.60 \\pm{0.58}, b=72 \\pm{38}\n"
     ]
    },
    {
     "data": {
      "image/png": "[encoded data removed]",
      "text/plain": [
       "<matplotlib.figure.Figure at 0x105f38850>"
      ]
     },
     "metadata": {},
     "output_type": "display_data"
    }
   ],
   "source": [
    "est, dat = quadratic_algebraic_solution(trimmed_table1)\n",
    "m, merr, b, berr, q, qerr = est\n",
    "X, Y, sY = dat\n",
    "\n",
    "Xp = np.linspace(0, 300, 100)\n",
    "plt.figure(figsize=(6,7))\n",
    "plt.plot(Xp, q*Xp**2 + m*Xp + b, 'k', \n",
    "         label='fit: $y=%5.4f\\pm{%5.4f} x^2 + %5.2f\\pm{%5.2f} x + %5d\\pm{%5d}$'%(q, qerr, \n",
    "                                                                            m, merr, \n",
    "                                                                            b, berr) )\n",
    "plt.errorbar(X, Y, yerr=sY, fmt='ko', label='observed point')\n",
    "plotting_keys()"
   ]
  },
  {
   "cell_type": "markdown",
   "metadata": {},
   "source": [
    "(sub-case with outliers)"
   ]
  },
  {
   "cell_type": "code",
   "execution_count": 9,
   "metadata": {},
   "outputs": [
    {
     "name": "stdout",
     "output_type": "stream",
     "text": [
      "m=3.72 \\pm{0.32}, b=18 \\pm{27}\n"
     ]
    },
    {
     "data": {
      "image/png": "[encoded data removed]",
      "text/plain": [
       "<matplotlib.figure.Figure at 0x1c1731b350>"
      ]
     },
     "metadata": {},
     "output_type": "display_data"
    }
   ],
   "source": [
    "est, dat = quadratic_algebraic_solution(table1)\n",
    "m, merr, b, berr, q, qerr = est\n",
    "X, Y, sY = dat\n",
    "\n",
    "Xp = np.linspace(0, 300, 100)\n",
    "plt.figure(figsize=(6,7))\n",
    "plt.plot(Xp, q*Xp**2 + m*Xp + b, 'k', \n",
    "         label='fit: $y=%5.4f\\pm{%5.4f} x^2 + %5.2f\\pm{%5.2f} x + %5d\\pm{%5d}$'%(q, qerr, \n",
    "                                                                            m, merr, \n",
    "                                                                            b, berr) )\n",
    "plt.errorbar(X, Y, yerr=sY, fmt='ko', label='observed point')\n",
    "plotting_keys()"
   ]
  },
  {
   "cell_type": "markdown",
   "metadata": {},
   "source": [
    "## Excercise 2: Bayesian Fit"
   ]
  },
  {
   "cell_type": "markdown",
   "metadata": {},
   "source": [
    "### Using foreground model only, i.e., only modeling inliers\n",
    "\n",
    "Case I: Assuming that sy (uncertainties in y) are given"
   ]
  },
  {
   "cell_type": "code",
   "execution_count": 10,
   "metadata": {},
   "outputs": [
    {
     "name": "stderr",
     "output_type": "stream",
     "text": [
      "Auto-assigning NUTS sampler...\n",
      "Initializing NUTS using jitter+adapt_diag...\n",
      "Multiprocess sampling (4 chains in 4 jobs)\n",
      "NUTS: [m, b_interval__]\n",
      "100%|██████████| 6000/6000 [00:08<00:00, 683.20it/s]\n",
      "The acceptance probability does not match the target. It is 0.9020631741532154, but should be close to 0.8. Try to increase the number of tuning steps.\n",
      "The acceptance probability does not match the target. It is 0.9234665362633392, but should be close to 0.8. Try to increase the number of tuning steps.\n",
      "The number of effective samples is smaller than 25% for some parameters.\n"
     ]
    }
   ],
   "source": [
    "X, Y, sY = trimmed_table1.x, trimmed_table1.y, trimmed_table1.sy\n",
    "with pm.Model() as basic_model:\n",
    "    b = pm.Uniform('b', lower=0, upper=100)\n",
    "    m = pm.Normal('m', mu=0, sd=10)\n",
    "    \n",
    "    sigma = sY\n",
    "        \n",
    "    fg = pm.Normal('fg', mu=b + m*X, sd=sigma, observed=Y)\n",
    "    \n",
    "    step = pm.NUTS()\n",
    "    trace = pm.sample(5000, n_init=10000, tune=1000)[3000:]"
   ]
  },
  {
   "cell_type": "code",
   "execution_count": 11,
   "metadata": {},
   "outputs": [
    {
     "name": "stdout",
     "output_type": "stream",
     "text": [
      "b: 35.08_{-17.13}^{+17.52}\n",
      "m: 2.23_{-0.10}^{+0.10}\n"
     ]
    },
    {
     "data": {
      "image/png": "[encoded data removed]",
      "text/plain": [
       "<matplotlib.figure.Figure at 0x1c1b196bd0>"
      ]
     },
     "metadata": {},
     "output_type": "display_data"
    }
   ],
   "source": [
    "best, bm, bp = xest(trace['b'])\n",
    "mest, mm, mp = xest(trace['m'])\n",
    "print \"b: %1.2f_{-%1.2f}^{+%1.2f}\"%(best, bm, bp)\n",
    "print \"m: %1.2f_{-%1.2f}^{+%1.2f}\"%(mest, mm, mp)\n",
    "\n",
    "Xp = np.linspace(0, 300, 10)\n",
    "plt.figure(figsize=(6,7))\n",
    "plt.plot(Xp, mest*Xp + best, 'k')\n",
    "plt.errorbar(X, Y, yerr=sY, fmt='ko', label='observed point')\n",
    "plotting_keys()\n",
    "\n",
    "# Storing result in a dataframe\n",
    "caseIII_result = {'m':mest, 'merr':0.5*(mm+mp), 'b': best, 'berr':0.5*(bm+bp), \n",
    "                  'case':'Bayesian Fit (BF) only fg model', 'data': '(x,y,sy) w/o outliers'}\n",
    "\n",
    "result_df = result_df.append(pd.Series(caseIII_result), ignore_index=True)"
   ]
  },
  {
   "cell_type": "markdown",
   "metadata": {},
   "source": [
    "Case II: Assuming that sy are known, but data is generated from t-distribution. Fit in this case is better than Case I immediately above."
   ]
  },
  {
   "cell_type": "code",
   "execution_count": 12,
   "metadata": {},
   "outputs": [
    {
     "name": "stderr",
     "output_type": "stream",
     "text": [
      "Auto-assigning NUTS sampler...\n",
      "Initializing NUTS using jitter+adapt_diag...\n",
      "Multiprocess sampling (4 chains in 4 jobs)\n",
      "NUTS: [nu_interval__, m, b_interval__]\n",
      "100%|██████████| 6000/6000 [00:13<00:00, 448.03it/s]\n"
     ]
    }
   ],
   "source": [
    "X, Y, sY = trimmed_table1.x, trimmed_table1.y, trimmed_table1.sy\n",
    "with pm.Model() as basic_model:\n",
    "    b = pm.Uniform('b', lower=0, upper=100)\n",
    "    m = pm.Normal('m', mu=0, sd=10)\n",
    "    \n",
    "    sigma = sY\n",
    "      \n",
    "    ## define prior for Student T degrees of freedom\n",
    "    nu = pm.Uniform('nu', lower=1, upper=100)\n",
    "\n",
    "    fg = pm.StudentT('fg', mu=b + m*X, sd=sigma, nu=nu, observed=Y)\n",
    "    \n",
    "    step = pm.NUTS()\n",
    "    trace = pm.sample(5000, n_init=10000, tune=1000)[3000:]"
   ]
  },
  {
   "cell_type": "code",
   "execution_count": 13,
   "metadata": {},
   "outputs": [
    {
     "name": "stdout",
     "output_type": "stream",
     "text": [
      "b: 34.60_{-16.71}^{+17.62}\n",
      "m: 2.24_{-0.10}^{+0.10}\n"
     ]
    }
   ],
   "source": [
    "best, bm, bp = xest(trace['b'])\n",
    "mest, mm, mp = xest(trace['m'])\n",
    "print \"b: %1.2f_{-%1.2f}^{+%1.2f}\"%(best, bm, bp)\n",
    "print \"m: %1.2f_{-%1.2f}^{+%1.2f}\"%(mest, mm, mp)\n",
    "\n",
    "# Storing result in a dataframe\n",
    "caseIV_result = {'m':mest, 'merr':0.5*(mm+mp), 'b': best, 'berr':0.5*(bm+bp), \n",
    "                  'case':'BF only fg (t-distribution)', 'data':'(x,y,sy) w/o outliers'}\n",
    "\n",
    "result_df = result_df.append(pd.Series(caseIV_result), ignore_index=True)"
   ]
  },
  {
   "cell_type": "markdown",
   "metadata": {},
   "source": [
    "Case III: Assuming that $\\sigma_{yii}$ are not known and hence, considering it a free parameter. "
   ]
  },
  {
   "cell_type": "code",
   "execution_count": 14,
   "metadata": {},
   "outputs": [
    {
     "name": "stderr",
     "output_type": "stream",
     "text": [
      "Auto-assigning NUTS sampler...\n",
      "Initializing NUTS using jitter+adapt_diag...\n",
      "Multiprocess sampling (4 chains in 4 jobs)\n",
      "NUTS: [sigma_interval__, m, b_interval__]\n",
      "100%|██████████| 6000/6000 [00:15<00:00, 387.90it/s]\n",
      "The acceptance probability does not match the target. It is 0.8863958147011451, but should be close to 0.8. Try to increase the number of tuning steps.\n"
     ]
    }
   ],
   "source": [
    "X, Y, sY = trimmed_table1.x, trimmed_table1.y, trimmed_table1.sy\n",
    "with pm.Model() as basic_model:\n",
    "    b = pm.Uniform('b', lower=0, upper=100)\n",
    "    m = pm.Normal('m', mu=0, sd=10)\n",
    "    \n",
    "    sigma = pm.Uniform('sigma', lower=0, upper=20)\n",
    "        \n",
    "    fg = pm.Normal('fg', mu=b + m*X, sd=sigma, observed=Y)\n",
    "    \n",
    "with basic_model:\n",
    "    step = pm.NUTS()\n",
    "    trace = pm.sample(5000, n_init=10000, tune=1000)[3000:]"
   ]
  },
  {
   "cell_type": "code",
   "execution_count": 15,
   "metadata": {},
   "outputs": [
    {
     "name": "stdout",
     "output_type": "stream",
     "text": [
      "b: 30.88_{-17.39}^{+19.14}\n",
      "m: 2.20_{-0.11}^{+0.10}\n"
     ]
    },
    {
     "data": {
      "image/png": "[encoded data removed]",
      "text/plain": [
       "<matplotlib.figure.Figure at 0x1c1c47cd10>"
      ]
     },
     "metadata": {},
     "output_type": "display_data"
    }
   ],
   "source": [
    "#pm.traceplot(trace);\n",
    "best, bm, bp = xest(trace['b'])\n",
    "mest, mm, mp = xest(trace['m'])\n",
    "print \"b: %1.2f_{-%1.2f}^{+%1.2f}\"%(best, bm, bp)\n",
    "print \"m: %1.2f_{-%1.2f}^{+%1.2f}\"%(mest, mm, mp)\n",
    "\n",
    "Xp = np.linspace(0, 300, 10)\n",
    "plt.figure(figsize=(6,7))\n",
    "plt.plot(Xp, mest*Xp + best, 'k')\n",
    "plt.errorbar(X, Y, yerr=sY, fmt='ko', label='observed point')\n",
    "plotting_keys()\n",
    "\n",
    "# Storing result in a dataframe\n",
    "caseV_result = {'m':mest, 'merr':0.5*(mm+mp), 'b': best, 'berr':0.5*(bm+bp), \n",
    "                  'case':'BF only fg (Normal)','data':'(x,y) w/o outliers, sy is free parameter'}\n",
    "\n",
    "result_df = result_df.append(pd.Series(caseV_result), ignore_index=True)"
   ]
  },
  {
   "cell_type": "markdown",
   "metadata": {},
   "source": [
    "Case IV: Assuming that sy are non-existence. Including eps term to model dispersion in the data along the y-direction "
   ]
  },
  {
   "cell_type": "code",
   "execution_count": 27,
   "metadata": {},
   "outputs": [
    {
     "name": "stderr",
     "output_type": "stream",
     "text": [
      "Auto-assigning NUTS sampler...\n",
      "Initializing NUTS using jitter+adapt_diag...\n",
      "Multiprocess sampling (4 chains in 4 jobs)\n",
      "NUTS: [eps, m, b_interval__]\n",
      "100%|██████████| 6000/6000 [02:57<00:00, 33.72it/s]\n",
      "The acceptance probability does not match the target. It is 0.6957824341431056, but should be close to 0.8. Try to increase the number of tuning steps.\n"
     ]
    }
   ],
   "source": [
    "X, Y = trimmed_table1.x, trimmed_table1.y\n",
    "with pm.Model() as basic_model:\n",
    "    b = pm.Uniform('b', lower=0, upper=100)\n",
    "    m = pm.Normal('m', mu=0, sd=10)\n",
    "    \n",
    "    sigma = 1. #pm.Uniform('sigma', 1e0-2, 20)\n",
    "    eps = pm.Normal('eps', mu=0, sd=25)\n",
    "    \n",
    "    yest = b + m*X + eps    \n",
    "    fg = pm.Normal('fg', mu=yest, sd=sigma, observed=Y)\n",
    "    \n",
    "    step = pm.NUTS()\n",
    "    trace = pm.sample(5000, n_init=10000, tune=1000)[3000:]"
   ]
  },
  {
   "cell_type": "code",
   "execution_count": 28,
   "metadata": {},
   "outputs": [
    {
     "name": "stdout",
     "output_type": "stream",
     "text": [
      "b: 32.69_{-19.88}^{+22.42}\n",
      "m: 2.22_{-0.01}^{+0.01}\n"
     ]
    },
    {
     "data": {
      "image/png": "[encoded data removed]",
      "text/plain": [
       "<matplotlib.figure.Figure at 0x1c1b5a3290>"
      ]
     },
     "metadata": {},
     "output_type": "display_data"
    }
   ],
   "source": [
    "best, bm, bp = xest(trace['b'])\n",
    "mest, mm, mp = xest(trace['m'])\n",
    "print \"b: %1.2f_{-%1.2f}^{+%1.2f}\"%(best, bm, bp)\n",
    "print \"m: %1.2f_{-%1.2f}^{+%1.2f}\"%(mest, mm, mp)\n",
    "\n",
    "Xp = np.linspace(0, 300, 10)\n",
    "plt.figure(figsize=(6,7))\n",
    "plt.plot(Xp, mest*Xp + best, 'k')\n",
    "plt.plot(X, Y, 'ko', label='observed point')\n",
    "plotting_keys()\n",
    "\n",
    "# Storing result in a dataframe\n",
    "caseVI_result = {'m':mest, 'merr':0.5*(mm+mp), 'b': best, 'berr':0.5*(bm+bp), \n",
    "                 'case':'BF only fg (Normal + eps)', 'data': '(x,y) w/o outliers, sy is free parameter'}\n",
    "\n",
    "result_df = result_df.append(pd.Series(caseVI_result), ignore_index=True)"
   ]
  },
  {
   "cell_type": "markdown",
   "metadata": {},
   "source": [
    "### A robust fitting for data with outliers using a mixture (foreground + background) model\n",
    "\n",
    "Case I: Assuming that $\\sigma_{yii}$ are known"
   ]
  },
  {
   "cell_type": "code",
   "execution_count": 29,
   "metadata": {},
   "outputs": [
    {
     "name": "stderr",
     "output_type": "stream",
     "text": [
      "Auto-assigning NUTS sampler...\n",
      "Initializing NUTS using jitter+adapt_diag...\n",
      "Multiprocess sampling (4 chains in 4 jobs)\n",
      "NUTS: [Vb_interval__, Yb, m, b_interval__, q_logodds__]\n",
      "100%|██████████| 10000/10000 [00:34<00:00, 293.52it/s]\n",
      "The acceptance probability does not match the target. It is 0.7088652651182435, but should be close to 0.8. Try to increase the number of tuning steps.\n"
     ]
    }
   ],
   "source": [
    "X, Y, sY = table1.x, table1.y, table1.sy\n",
    "n = X.shape[0]\n",
    "with pm.Model() as basic_model:\n",
    "    # Weights\n",
    "    q = pm.Beta( \"q\", 1., 1.)    \n",
    "    #nmixture = 2\n",
    "    #q = pm.Dirichlet('q', np.ones(nmixture))\n",
    "    \n",
    "    # Priors on inliers slope and intercept\n",
    "    b = pm.Uniform('b', lower=0, upper=100)\n",
    "    m = pm.Normal('m', mu=0, sd=20)\n",
    "    \n",
    "    # y measurement and uncertainties \n",
    "    yest = b + m*X\n",
    "    sigma = sY\n",
    "    #sigma  = pm.Uniform('sigma', 1e0-2, 20)\n",
    "    \n",
    "    # Priors on outliers means and dispersion \n",
    "    Yb = pm.Normal('Yb', mu=0, sd=200)\n",
    "    Vb = pm.Uniform('Vb', 1e-2, 100)\n",
    "            \n",
    "    fg = pm.Normal.dist(mu=yest, sd=sigma*np.ones(n), shape=n)\n",
    "    bg = pm.Normal.dist(mu=Yb*np.ones(n), \n",
    "                        sd=np.sqrt(Vb**2 + sigma**2), shape=n)\n",
    "    \n",
    "    mix = pm.Mixture('mix', w=[q, 1-q], #q, \n",
    "                       comp_dists = [fg, bg], observed=Y)\n",
    "    \n",
    "    step = pm.NUTS( )\n",
    "    trace = pm.sample(5000, n_init=10000, tune=5000)[1000:]"
   ]
  },
  {
   "cell_type": "code",
   "execution_count": 30,
   "metadata": {},
   "outputs": [
    {
     "name": "stdout",
     "output_type": "stream",
     "text": [
      "b: 33.93_{-17.84}^{+18.42}\n",
      "m: 2.25_{-0.11}^{+0.11}\n"
     ]
    },
    {
     "data": {
      "image/png": "[encoded data removed]",
      "text/plain": [
       "<matplotlib.figure.Figure at 0x1c1bb855d0>"
      ]
     },
     "metadata": {},
     "output_type": "display_data"
    }
   ],
   "source": [
    "#pm.traceplot(trace);\n",
    "def xest(x):\n",
    "    m, est, p = np.percentile(x, [16, 50, 84])\n",
    "    return est, est-m, p-est\n",
    "\n",
    "best, bm, bp = xest(trace['b'])\n",
    "mest, mm, mp = xest(trace['m'])\n",
    "print \"b: %1.2f_{-%1.2f}^{+%1.2f}\"%(best, bm, bp)\n",
    "print \"m: %1.2f_{-%1.2f}^{+%1.2f}\"%(mest, mm, mp)\n",
    "\n",
    "Xp = np.linspace(0, 300, 10)\n",
    "plt.figure(figsize=(6,7))\n",
    "plt.plot(Xp, mest*Xp + best, 'k')\n",
    "plt.errorbar(X, Y, yerr=sY, fmt='ko', label='observed point')\n",
    "plotting_keys()\n",
    "\n",
    "# Storing result in a dataframe\n",
    "caseVII_result = {'m':mest, 'merr':0.5*(mm+mp), 'b': best, 'berr':0.5*(bm+bp), \n",
    "                  'case':'BF with bg+fg', 'data':'(x,y,sy) with outliers'}\n",
    "\n",
    "result_df = result_df.append(pd.Series(caseVII_result), ignore_index=True)"
   ]
  },
  {
   "cell_type": "markdown",
   "metadata": {},
   "source": [
    "Case II: In case sy is not known, hence keeping it a free parameter"
   ]
  },
  {
   "cell_type": "code",
   "execution_count": 31,
   "metadata": {},
   "outputs": [
    {
     "name": "stderr",
     "output_type": "stream",
     "text": [
      "Auto-assigning NUTS sampler...\n",
      "Initializing NUTS using jitter+adapt_diag...\n",
      "Multiprocess sampling (4 chains in 4 jobs)\n",
      "NUTS: [Vb_interval__, Yb, sigma_interval__, m, b_interval__, q_logodds__]\n",
      "100%|██████████| 10000/10000 [00:41<00:00, 241.08it/s]\n",
      "There were 1 divergences after tuning. Increase `target_accept` or reparameterize.\n",
      "The number of effective samples is smaller than 25% for some parameters.\n"
     ]
    }
   ],
   "source": [
    "X, Y, sY = table1.x, table1.y, table1.sy\n",
    "n = X.shape[0]\n",
    "with pm.Model() as basic_model:\n",
    "    # Weights\n",
    "    q = pm.Beta( \"q\", 1., 1.)    \n",
    "    #nmixture = 2\n",
    "    #q = pm.Dirichlet('q', np.ones(nmixture))\n",
    "    \n",
    "    # Priors on inliers slope and intercept\n",
    "    b = pm.Uniform('b', lower=0, upper=100)\n",
    "    m = pm.Normal('m', mu=0, sd=20)\n",
    "    \n",
    "    # y measurement and uncertainties \n",
    "    yest = b + m*X\n",
    "    sigma  = pm.Uniform('sigma', 1e0-2, 20)\n",
    "    \n",
    "    # Priors on outliers means and dispersion \n",
    "    Yb = pm.Normal('Yb', mu=0, sd=200)\n",
    "    Vb = pm.Uniform('Vb', 1e-2, 100)\n",
    "            \n",
    "    fg = pm.Normal.dist(mu=yest, sd=sigma*np.ones(n), shape=n)\n",
    "    bg = pm.Normal.dist(mu=Yb*np.ones(n), \n",
    "                        sd=np.sqrt(Vb**2 + sigma**2), shape=n)\n",
    "    \n",
    "    mix = pm.Mixture('mix', w=[q, 1-q], #q, \n",
    "                       comp_dists = [fg, bg], observed=Y)\n",
    "    \n",
    "    step = pm.NUTS( )\n",
    "    trace = pm.sample(5000, n_init=10000, tune=5000)[1000:]"
   ]
  },
  {
   "cell_type": "code",
   "execution_count": 32,
   "metadata": {},
   "outputs": [
    {
     "name": "stdout",
     "output_type": "stream",
     "text": [
      "b: 42.18_{-20.69}^{+22.33}\n",
      "m: 2.18_{-0.17}^{+0.13}\n"
     ]
    },
    {
     "data": {
      "image/png": "[encoded data removed]",
      "text/plain": [
       "<matplotlib.figure.Figure at 0x1c1c5777d0>"
      ]
     },
     "metadata": {},
     "output_type": "display_data"
    }
   ],
   "source": [
    "best, bm, bp = xest(trace['b'])\n",
    "mest, mm, mp = xest(trace['m'])\n",
    "print \"b: %1.2f_{-%1.2f}^{+%1.2f}\"%(best, bm, bp)\n",
    "print \"m: %1.2f_{-%1.2f}^{+%1.2f}\"%(mest, mm, mp)\n",
    "\n",
    "Xp = np.linspace(0, 300, 10)\n",
    "plt.figure(figsize=(6,7))\n",
    "plt.plot(Xp, mest*Xp + best, 'k')\n",
    "plt.errorbar(X, Y, yerr=sY, fmt='ko', label='observed point')\n",
    "plotting_keys()\n",
    "\n",
    "# Storing result in a dataframe\n",
    "caseVIII_result = {'m':mest, 'merr':0.5*(mm+mp), 'b': best, 'berr':0.5*(bm+bp), \n",
    "                   'case':'BF with bg+fg. (x,y) with outliers', 'data':'sy is a free parameter'}\n",
    "\n",
    "result_df = result_df.append(pd.Series(caseVIII_result), ignore_index=True)"
   ]
  },
  {
   "cell_type": "markdown",
   "metadata": {},
   "source": [
    "Case III: In case sy is not known + assuming t-distribution instead of normal distribution"
   ]
  },
  {
   "cell_type": "code",
   "execution_count": 33,
   "metadata": {},
   "outputs": [
    {
     "name": "stderr",
     "output_type": "stream",
     "text": [
      "Auto-assigning NUTS sampler...\n",
      "Initializing NUTS using jitter+adapt_diag...\n",
      "Multiprocess sampling (4 chains in 4 jobs)\n",
      "NUTS: [nu_interval__, Vb_interval__, Yb, sigma_interval__, m, b_interval__, q_logodds__]\n",
      "100%|██████████| 10000/10000 [01:10<00:00, 141.45it/s]\n",
      "There were 1 divergences after tuning. Increase `target_accept` or reparameterize.\n"
     ]
    }
   ],
   "source": [
    "X, Y, sY = table1.x, table1.y, table1.sy\n",
    "n = X.shape[0]\n",
    "with pm.Model() as basic_model:\n",
    "    # Weights\n",
    "    q = pm.Beta( \"q\", 1., 1.)    \n",
    "    #nmixture = 2\n",
    "    #q = pm.Dirichlet('q', np.ones(nmixture))\n",
    "    \n",
    "    # Priors on inliers slope and intercept\n",
    "    b = pm.Uniform('b', lower=0, upper=100)\n",
    "    m = pm.Normal('m', mu=0, sd=20)\n",
    "    \n",
    "    # y measurement and uncertainties \n",
    "    yest = b + m*X\n",
    "    sigma  = pm.Uniform('sigma', 1e0-2, 20)\n",
    "    \n",
    "    # Priors on outliers means and dispersion \n",
    "    Yb = pm.Normal('Yb', mu=0, sd=200)\n",
    "    Vb = pm.Uniform('Vb', 1e-2, 100)\n",
    "\n",
    "    # Priors for Student-T distribution degrees of freedom\n",
    "    nu = pm.Uniform('nu', lower=1, upper=100)\n",
    "    \n",
    "    fg = pm.StudentT.dist(mu=yest, sd=sigma*np.ones(n), \n",
    "                          nu=nu*np.ones(n), shape=n)\n",
    "    bg = pm.Normal.dist(mu=Yb*np.ones(n), \n",
    "                          sd=np.sqrt(Vb**2 + sigma**2), \n",
    "                          shape=n)\n",
    "    \n",
    "    mix = pm.Mixture('mix', w=[q, 1-q], #q, \n",
    "                       comp_dists = [fg, bg], observed=Y)\n",
    "    \n",
    "    step = pm.NUTS( )\n",
    "    trace = pm.sample(5000, n_init=10000, tune=5000)[1000:]"
   ]
  },
  {
   "cell_type": "code",
   "execution_count": 34,
   "metadata": {},
   "outputs": [
    {
     "name": "stdout",
     "output_type": "stream",
     "text": [
      "b: 42.60_{-21.42}^{+21.73}\n",
      "m: 2.17_{-0.16}^{+0.14}\n"
     ]
    },
    {
     "data": {
      "image/png": "[encoded data removed]",
      "text/plain": [
       "<matplotlib.figure.Figure at 0x1c21b63450>"
      ]
     },
     "metadata": {},
     "output_type": "display_data"
    }
   ],
   "source": [
    "best, bm, bp = xest(trace['b'])\n",
    "mest, mm, mp = xest(trace['m'])\n",
    "print \"b: %1.2f_{-%1.2f}^{+%1.2f}\"%(best, bm, bp)\n",
    "print \"m: %1.2f_{-%1.2f}^{+%1.2f}\"%(mest, mm, mp)\n",
    "\n",
    "Xp = np.linspace(0, 300, 10)\n",
    "plt.figure(figsize=(6,7))\n",
    "plt.plot(Xp, mest*Xp + best, 'k')\n",
    "plt.errorbar(X, Y, yerr=sY, fmt='ko', label='observed point')\n",
    "plotting_keys()\n",
    "\n",
    "# Storing result in a dataframe\n",
    "caseIX_result = {'m':mest, 'merr':0.5*(mm+mp), 'b': best, 'berr':0.5*(bm+bp), \n",
    "                  'case':'BF with bg (gaussian) + fg (t-dist)','data':'(x,y) with outliers, sy is free'}\n",
    "\n",
    "result_df = result_df.append(pd.Series(caseIX_result), ignore_index=True)"
   ]
  },
  {
   "cell_type": "markdown",
   "metadata": {},
   "source": [
    "### A robust fitting in case there are no uncertainties around the data at all."
   ]
  },
  {
   "cell_type": "code",
   "execution_count": 35,
   "metadata": {},
   "outputs": [
    {
     "name": "stderr",
     "output_type": "stream",
     "text": [
      "Auto-assigning NUTS sampler...\n",
      "Initializing NUTS using jitter+adapt_diag...\n",
      "Multiprocess sampling (4 chains in 4 jobs)\n",
      "NUTS: [Vb_interval__, Yb, m, b_interval__, q_logodds__]\n",
      "100%|██████████| 10000/10000 [00:30<00:00, 322.83it/s]\n",
      "There were 475 divergences after tuning. Increase `target_accept` or reparameterize.\n",
      "There were 352 divergences after tuning. Increase `target_accept` or reparameterize.\n",
      "There were 430 divergences after tuning. Increase `target_accept` or reparameterize.\n",
      "There were 529 divergences after tuning. Increase `target_accept` or reparameterize.\n",
      "The acceptance probability does not match the target. It is 0.8896041691357314, but should be close to 0.8. Try to increase the number of tuning steps.\n"
     ]
    }
   ],
   "source": [
    "X, Y = table1.x, table1.y\n",
    "n = X.shape[0]\n",
    "with pm.Model() as basic_model:\n",
    "    # Weights\n",
    "    q = pm.Beta( \"q\", 1., 1.)    \n",
    "    \n",
    "    # Priors on inliers slope and intercept\n",
    "    b = pm.Uniform('b', lower=0, upper=100)\n",
    "    m = pm.Normal('m', mu=0, sd=20)\n",
    "        \n",
    "    # y measurement and uncertainties \n",
    "    yest = b + m*X\n",
    "\n",
    "    sigma  = 1.\n",
    "    \n",
    "    # Priors on outliers means and dispersion \n",
    "    Yb = pm.Normal('Yb', mu=0, sd=200)\n",
    "    Vb = pm.Uniform('Vb', 1e-2, 100)\n",
    "            \n",
    "    fg = pm.Normal.dist(mu=yest, sd=sigma*np.ones(n), shape=n)\n",
    "    bg = pm.Normal.dist(mu=Yb*np.ones(n), \n",
    "                        sd=np.sqrt(Vb**2 + sigma**2), shape=n)\n",
    "    \n",
    "    mix = pm.Mixture('mix', w=[q, 1-q],\n",
    "                       comp_dists = [fg, bg], observed=Y)\n",
    "    \n",
    "    step = pm.Metropolis( )\n",
    "    trace = pm.sample(5000, n_init=10000, tune=5000)[1000:]"
   ]
  },
  {
   "cell_type": "raw",
   "metadata": {},
   "source": [
    "best, bm, bp = xest(trace['b'])\n",
    "mest, mm, mp = xest(trace['m'])\n",
    "print \"b: %1.2f_{-%1.2f}^{+%1.2f}\"%(best, bm, bp)\n",
    "print \"m: %1.2f_{-%1.2f}^{+%1.2f}\"%(mest, mm, mp)\n",
    "\n",
    "Xp = np.linspace(0, 300, 10)\n",
    "plt.figure(figsize=(6,7))\n",
    "plt.plot(Xp, mest*Xp + best, 'k')\n",
    "plt.plot(X, Y, 'ko', label='observed point')\n",
    "plotting_keys()\n",
    "\n",
    "# Storing result in a dataframe\n",
    "caseX_result = {'m':mest, 'merr':0.5*(mm+mp), 'b': best, 'berr':0.5*(bm+bp), \n",
    "                  'case':'BF with bg + fg', 'data':'(x,y) with outliers, sigma = 1'}\n",
    "\n",
    "result_df = result_df.append(pd.Series(caseX_result), ignore_index=True)"
   ]
  },
  {
   "cell_type": "markdown",
   "metadata": {},
   "source": [
    "#### All estimates"
   ]
  },
  {
   "cell_type": "code",
   "execution_count": 37,
   "metadata": {},
   "outputs": [
    {
     "data": {
      "text/html": [
       "<div>\n",
       "<style scoped>\n",
       "    .dataframe tbody tr th:only-of-type {\n",
       "        vertical-align: middle;\n",
       "    }\n",
       "\n",
       "    .dataframe tbody tr th {\n",
       "        vertical-align: top;\n",
       "    }\n",
       "\n",
       "    .dataframe thead th {\n",
       "        text-align: right;\n",
       "    }\n",
       "</style>\n",
       "<table border=\"1\" class=\"dataframe\">\n",
       "  <thead>\n",
       "    <tr style=\"text-align: right;\">\n",
       "      <th></th>\n",
       "      <th>case</th>\n",
       "      <th>data</th>\n",
       "      <th>m</th>\n",
       "      <th>merr</th>\n",
       "      <th>b</th>\n",
       "      <th>berr</th>\n",
       "    </tr>\n",
       "  </thead>\n",
       "  <tbody>\n",
       "    <tr>\n",
       "      <th>0</th>\n",
       "      <td>Exact solution</td>\n",
       "      <td>(x,y,sy) w/o outliers</td>\n",
       "      <td>2.24</td>\n",
       "      <td>0.11</td>\n",
       "      <td>34.05</td>\n",
       "      <td>18.25</td>\n",
       "    </tr>\n",
       "    <tr>\n",
       "      <th>1</th>\n",
       "      <td>Exact solution</td>\n",
       "      <td>(x,y,sy) with outliers</td>\n",
       "      <td>1.08</td>\n",
       "      <td>0.08</td>\n",
       "      <td>213.27</td>\n",
       "      <td>14.39</td>\n",
       "    </tr>\n",
       "    <tr>\n",
       "      <th>2</th>\n",
       "      <td>Bayesian Fit (BF) only fg model</td>\n",
       "      <td>(x,y,sy) w/o outliers</td>\n",
       "      <td>2.23</td>\n",
       "      <td>0.10</td>\n",
       "      <td>35.08</td>\n",
       "      <td>17.32</td>\n",
       "    </tr>\n",
       "    <tr>\n",
       "      <th>3</th>\n",
       "      <td>BF only fg (t-distribution)</td>\n",
       "      <td>(x,y,sy) w/o outliers</td>\n",
       "      <td>2.24</td>\n",
       "      <td>0.10</td>\n",
       "      <td>34.60</td>\n",
       "      <td>17.17</td>\n",
       "    </tr>\n",
       "    <tr>\n",
       "      <th>4</th>\n",
       "      <td>BF only fg (Normal)</td>\n",
       "      <td>(x,y) w/o outliers, sy is free parameter</td>\n",
       "      <td>2.20</td>\n",
       "      <td>0.11</td>\n",
       "      <td>30.88</td>\n",
       "      <td>18.27</td>\n",
       "    </tr>\n",
       "    <tr>\n",
       "      <th>5</th>\n",
       "      <td>BF only fg (Normal + eps)</td>\n",
       "      <td>(x,y) w/o outliers, sy is free parameter</td>\n",
       "      <td>2.22</td>\n",
       "      <td>0.01</td>\n",
       "      <td>28.87</td>\n",
       "      <td>5.04</td>\n",
       "    </tr>\n",
       "    <tr>\n",
       "      <th>6</th>\n",
       "      <td>BF with bg+fg</td>\n",
       "      <td>(x,y,sy) with outliers</td>\n",
       "      <td>2.25</td>\n",
       "      <td>0.11</td>\n",
       "      <td>33.69</td>\n",
       "      <td>17.65</td>\n",
       "    </tr>\n",
       "    <tr>\n",
       "      <th>7</th>\n",
       "      <td>BF with bg+fg. (x,y) with outliers</td>\n",
       "      <td>sy is a free parameter</td>\n",
       "      <td>2.18</td>\n",
       "      <td>0.15</td>\n",
       "      <td>42.31</td>\n",
       "      <td>21.44</td>\n",
       "    </tr>\n",
       "    <tr>\n",
       "      <th>8</th>\n",
       "      <td>BF with bg (gaussian) + fg (t-dist)</td>\n",
       "      <td>(x,y) with outliers, sy is free</td>\n",
       "      <td>2.17</td>\n",
       "      <td>0.15</td>\n",
       "      <td>42.91</td>\n",
       "      <td>21.39</td>\n",
       "    </tr>\n",
       "    <tr>\n",
       "      <th>9</th>\n",
       "      <td>BF with bg + fg</td>\n",
       "      <td>(x,y) with outliers, sigma = 1</td>\n",
       "      <td>1.96</td>\n",
       "      <td>15.96</td>\n",
       "      <td>49.71</td>\n",
       "      <td>28.14</td>\n",
       "    </tr>\n",
       "    <tr>\n",
       "      <th>10</th>\n",
       "      <td>BF only fg (Normal + eps)</td>\n",
       "      <td>(x,y) w/o outliers, sy is free parameter</td>\n",
       "      <td>2.22</td>\n",
       "      <td>0.01</td>\n",
       "      <td>32.69</td>\n",
       "      <td>21.15</td>\n",
       "    </tr>\n",
       "    <tr>\n",
       "      <th>11</th>\n",
       "      <td>BF with bg+fg</td>\n",
       "      <td>(x,y,sy) with outliers</td>\n",
       "      <td>2.25</td>\n",
       "      <td>0.11</td>\n",
       "      <td>33.93</td>\n",
       "      <td>18.13</td>\n",
       "    </tr>\n",
       "    <tr>\n",
       "      <th>12</th>\n",
       "      <td>BF with bg+fg. (x,y) with outliers</td>\n",
       "      <td>sy is a free parameter</td>\n",
       "      <td>2.18</td>\n",
       "      <td>0.15</td>\n",
       "      <td>42.18</td>\n",
       "      <td>21.51</td>\n",
       "    </tr>\n",
       "    <tr>\n",
       "      <th>13</th>\n",
       "      <td>BF with bg (gaussian) + fg (t-dist)</td>\n",
       "      <td>(x,y) with outliers, sy is free</td>\n",
       "      <td>2.17</td>\n",
       "      <td>0.15</td>\n",
       "      <td>42.60</td>\n",
       "      <td>21.57</td>\n",
       "    </tr>\n",
       "    <tr>\n",
       "      <th>14</th>\n",
       "      <td>BF with bg + fg</td>\n",
       "      <td>(x,y) with outliers, sigma = 1</td>\n",
       "      <td>-0.31</td>\n",
       "      <td>19.81</td>\n",
       "      <td>50.06</td>\n",
       "      <td>34.17</td>\n",
       "    </tr>\n",
       "  </tbody>\n",
       "</table>\n",
       "</div>"
      ],
      "text/plain": [
       "                                   case  \\\n",
       "0                        Exact solution   \n",
       "1                        Exact solution   \n",
       "2       Bayesian Fit (BF) only fg model   \n",
       "3           BF only fg (t-distribution)   \n",
       "4                   BF only fg (Normal)   \n",
       "5             BF only fg (Normal + eps)   \n",
       "6                         BF with bg+fg   \n",
       "7    BF with bg+fg. (x,y) with outliers   \n",
       "8   BF with bg (gaussian) + fg (t-dist)   \n",
       "9                       BF with bg + fg   \n",
       "10            BF only fg (Normal + eps)   \n",
       "11                        BF with bg+fg   \n",
       "12   BF with bg+fg. (x,y) with outliers   \n",
       "13  BF with bg (gaussian) + fg (t-dist)   \n",
       "14                      BF with bg + fg   \n",
       "\n",
       "                                        data     m   merr       b   berr  \n",
       "0                      (x,y,sy) w/o outliers  2.24   0.11   34.05  18.25  \n",
       "1                     (x,y,sy) with outliers  1.08   0.08  213.27  14.39  \n",
       "2                      (x,y,sy) w/o outliers  2.23   0.10   35.08  17.32  \n",
       "3                      (x,y,sy) w/o outliers  2.24   0.10   34.60  17.17  \n",
       "4   (x,y) w/o outliers, sy is free parameter  2.20   0.11   30.88  18.27  \n",
       "5   (x,y) w/o outliers, sy is free parameter  2.22   0.01   28.87   5.04  \n",
       "6                     (x,y,sy) with outliers  2.25   0.11   33.69  17.65  \n",
       "7                     sy is a free parameter  2.18   0.15   42.31  21.44  \n",
       "8            (x,y) with outliers, sy is free  2.17   0.15   42.91  21.39  \n",
       "9             (x,y) with outliers, sigma = 1  1.96  15.96   49.71  28.14  \n",
       "10  (x,y) w/o outliers, sy is free parameter  2.22   0.01   32.69  21.15  \n",
       "11                    (x,y,sy) with outliers  2.25   0.11   33.93  18.13  \n",
       "12                    sy is a free parameter  2.18   0.15   42.18  21.51  \n",
       "13           (x,y) with outliers, sy is free  2.17   0.15   42.60  21.57  \n",
       "14            (x,y) with outliers, sigma = 1 -0.31  19.81   50.06  34.17  "
      ]
     },
     "execution_count": 37,
     "metadata": {},
     "output_type": "execute_result"
    }
   ],
   "source": [
    "result_df.round(2)[['case', 'data', 'm','merr','b','berr']]"
   ]
  },
  {
   "cell_type": "code",
   "execution_count": null,
   "metadata": {},
   "outputs": [],
   "source": []
  }
 ],
 "metadata": {
  "kernelspec": {
   "display_name": "Python 2",
   "language": "python",
   "name": "python2"
  },
  "language_info": {
   "codemirror_mode": {
    "name": "ipython",
    "version": 2
   },
   "file_extension": ".py",
   "mimetype": "text/x-python",
   "name": "python",
   "nbconvert_exporter": "python",
   "pygments_lexer": "ipython2",
   "version": "2.7.14"
  }
 },
 "nbformat": 4,
 "nbformat_minor": 2
}
