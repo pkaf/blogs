{
 "cells": [
  {
   "cell_type": "markdown",
   "metadata": {},
   "source": [
    "Motivated (and shamelessly copied) from the followling blog by Jake's  \n",
    "\n",
    "http://jakevdp.github.io/blog/2014/06/12/frequentism-and-bayesianism-3-confidence-credibility/\n",
    "\n"
   ]
  },
  {
   "cell_type": "code",
   "execution_count": 7,
   "metadata": {},
   "outputs": [],
   "source": [
    "import numpy as np\n",
    "G = np.random.normal"
   ]
  },
  {
   "cell_type": "code",
   "execution_count": 10,
   "metadata": {},
   "outputs": [
    {
     "name": "stdout",
     "output_type": "stream",
     "text": [
      "0.760 should equal 0.756\n"
     ]
    }
   ],
   "source": [
    "N = 7\n",
    "Nsamp = 10 ** 4\n",
    "sigma_x = 2\n",
    "\n",
    "np.random.seed(42)\n",
    "x = G(0, sigma_x, size=(Nsamp, N))\n",
    "\n",
    "samp_mu = x.mean(1)\n",
    "samp_sig = sigma_x * N ** -0.5\n",
    "\n",
    "print(\"{0:.3f} should equal {1:.3f}\".format(np.std(samp_mu), samp_sig))"
   ]
  },
  {
   "cell_type": "markdown",
   "metadata": {},
   "source": [
    "Generating a random sample of size 3 with mean = 100 and sigma = 10 "
   ]
  },
  {
   "cell_type": "code",
   "execution_count": 23,
   "metadata": {},
   "outputs": [
    {
     "name": "stdout",
     "output_type": "stream",
     "text": [
      "[116.24345364  93.88243586  94.71828248  89.27031378 108.65407629\n",
      "  76.98461303 117.44811764  92.38793099 103.19039096  97.50629625\n",
      " 114.62107937  79.39859291  96.77582796  96.15945645 111.33769442\n",
      "  89.00108733  98.27571792  91.22141582 100.42213747 105.82815214\n",
      "  88.99380823 111.4472371  109.01590721 105.02494339 109.00855949\n",
      "  93.16272141  98.77109774  90.64230566  97.3211192  105.30355467]\n"
     ]
    }
   ],
   "source": [
    "trueB = 100\n",
    "sigma_x = 10\n",
    "\n",
    "np.random.seed(1)\n",
    "D = G(trueB, sigma_x, size=30)\n",
    "print(D)"
   ]
  },
  {
   "cell_type": "markdown",
   "metadata": {},
   "source": [
    "### Frequentist Confidence Interval ###\n",
    "A function to calculate confidence interval"
   ]
  },
  {
   "cell_type": "markdown",
   "metadata": {},
   "source": [
    "Confidence interval \n",
    "\n",
    "$CI_\\mu = (x - 2\\sigma_\\mu, x + 2\\sigma_\\mu)$"
   ]
  },
  {
   "cell_type": "code",
   "execution_count": 24,
   "metadata": {},
   "outputs": [
    {
     "name": "stdout",
     "output_type": "stream",
     "text": [
      "95% Confidence Interval: [96, 103]\n"
     ]
    }
   ],
   "source": [
    "from scipy.special import erfinv\n",
    "\n",
    "def freq_CI_mu(D, sigma, frac=0.95):\n",
    "    \"\"\"Compute the confidence interval on the mean\"\"\"\n",
    "    # we'll compute Nsigma from the desired percentage\n",
    "    Nsigma = np.sqrt(2) * erfinv(frac)\n",
    "    mu = D.mean()\n",
    "    sigma_mu = sigma * D.size ** -0.5\n",
    "    return mu - Nsigma * sigma_mu, mu + Nsigma * sigma_mu\n",
    "\n",
    "print(\"95% Confidence Interval: [{0:.0f}, {1:.0f}]\".format(*freq_CI_mu(D, 10)))"
   ]
  },
  {
   "cell_type": "markdown",
   "metadata": {},
   "source": [
    "### Bayesian Credibility Interval ###"
   ]
  },
  {
   "cell_type": "code",
   "execution_count": 25,
   "metadata": {},
   "outputs": [
    {
     "name": "stdout",
     "output_type": "stream",
     "text": [
      "95% Credible Region: [96, 103]\n"
     ]
    }
   ],
   "source": [
    "def bayes_CR_mu(D, sigma, frac=0.95):\n",
    "    \"\"\"Compute the credible region on the mean\"\"\"\n",
    "    Nsigma = np.sqrt(2) * erfinv(frac)\n",
    "    mu = D.mean()\n",
    "    sigma_mu = sigma * D.size ** -0.5\n",
    "    return mu - Nsigma * sigma_mu, mu + Nsigma * sigma_mu\n",
    "\n",
    "print(\"95% Credible Region: [{0:.0f}, {1:.0f}]\".format(*bayes_CR_mu(D, 10)))"
   ]
  },
  {
   "cell_type": "code",
   "execution_count": null,
   "metadata": {},
   "outputs": [],
   "source": []
  }
 ],
 "metadata": {
  "kernelspec": {
   "display_name": "Python 2",
   "language": "python",
   "name": "python2"
  },
  "language_info": {
   "codemirror_mode": {
    "name": "ipython",
    "version": 2
   },
   "file_extension": ".py",
   "mimetype": "text/x-python",
   "name": "python",
   "nbconvert_exporter": "python",
   "pygments_lexer": "ipython2",
   "version": "2.7.14"
  }
 },
 "nbformat": 4,
 "nbformat_minor": 2
}
